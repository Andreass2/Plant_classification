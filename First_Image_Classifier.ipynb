{
 "cells": [
  {
   "cell_type": "code",
   "execution_count": 469,
   "metadata": {},
   "outputs": [],
   "source": [
    "import pandas as pd\n",
    "import numpy as np\n",
    "import os\n",
    "from fastai.imports import *\n",
    "from fastai.transforms import *\n",
    "from fastai.conv_learner import *\n",
    "from fastai.model import *\n",
    "from fastai.dataset import *\n",
    "from fastai.sgdr import *\n",
    "from fastai.plots import *\n",
    "from sklearn.metrics import f1_score\n"
   ]
  },
  {
   "cell_type": "code",
   "execution_count": 470,
   "metadata": {},
   "outputs": [],
   "source": [
    "%reload_ext autoreload\n",
    "%autoreload 2\n",
    "%matplotlib inline"
   ]
  },
  {
   "cell_type": "code",
   "execution_count": 471,
   "metadata": {},
   "outputs": [],
   "source": [
    "PATH = \"data/\"\n",
    "sz=310"
   ]
  },
  {
   "cell_type": "markdown",
   "metadata": {},
   "source": [
    "# Make folder structure and move files for validation set. "
   ]
  },
  {
   "cell_type": "code",
   "execution_count": 472,
   "metadata": {},
   "outputs": [],
   "source": [
    "#VALID_PATH = \"data/valid/\"\n",
    "#TRAIN_PATH = \"data/train/\"\n",
    "#if not os.path.isdir(VALID_PATH):\n",
    "        #os.mkdir(VALID_PATH)\n",
    "#for dirpath, dirnames, filenames in os.walk(TRAIN_PATH):\n",
    "    #if len(dirnames) > 0:\n",
    "        #for folder in dirnames:\n",
    "            #if not os.path.isdir(os.path.join(VALID_PATH, folder)):\n",
    "                #os.mkdir(os.path.join(VALID_PATH, folder))\n",
    "            #onlyfiles = os.listdir(os.path.join(TRAIN_PATH, folder))\n",
    "            #k = len(onlyfiles) * 0.15\n",
    "            #indicies = random.sample(range(len(onlyfiles)), int(k))\n",
    "            #for i in indicies:\n",
    "                #shutil.move(os.path.join(TRAIN_PATH+folder,onlyfiles[i]), os.path.join(VALID_PATH+folder, onlyfiles[i]))\n",
    "            \n",
    "    \n"
   ]
  },
  {
   "cell_type": "markdown",
   "metadata": {},
   "source": [
    "# Choosing architecture\n",
    "\n",
    "tried VGG16, resnet32, resnet50, resnet101, resnet 152\n",
    "\n",
    "Current best accuracy is resnet101 with 92%̈́\n",
    "\n",
    "best image size found is 300 (Most images is 300)"
   ]
  },
  {
   "cell_type": "code",
   "execution_count": 485,
   "metadata": {},
   "outputs": [
    {
     "name": "stdout",
     "output_type": "stream",
     "text": [
      "\n",
      "100%|██████████| 1/1 [00:00<00:00,  2.78it/s]\n"
     ]
    }
   ],
   "source": [
    "arch=resnet101\n",
    "data = ImageClassifierData.from_paths(PATH, tfms=tfms_from_model(arch, sz, aug_tfms=transforms_top_down, max_zoom=1.2),\n",
    "                                     bs=64, num_workers=4, test_name='test')\n",
    "learn = ConvLearner.pretrained(arch, data, precompute=True)\n"
   ]
  },
  {
   "cell_type": "code",
   "execution_count": 486,
   "metadata": {},
   "outputs": [
    {
     "data": {
      "application/vnd.jupyter.widget-view+json": {
       "model_id": "259b84ae9f374c30bf1e257bb6f936b4",
       "version_major": 2,
       "version_minor": 0
      },
      "text/html": [
       "<p>Failed to display Jupyter Widget of type <code>HBox</code>.</p>\n",
       "<p>\n",
       "  If you're reading this message in the Jupyter Notebook or JupyterLab Notebook, it may mean\n",
       "  that the widgets JavaScript is still loading. If this message persists, it\n",
       "  likely means that the widgets JavaScript library is either not installed or\n",
       "  not enabled. See the <a href=\"https://ipywidgets.readthedocs.io/en/stable/user_install.html\">Jupyter\n",
       "  Widgets Documentation</a> for setup instructions.\n",
       "</p>\n",
       "<p>\n",
       "  If you're reading this message in another frontend (for example, a static\n",
       "  rendering on GitHub or <a href=\"https://nbviewer.jupyter.org/\">NBViewer</a>),\n",
       "  it may mean that your frontend doesn't currently support widgets.\n",
       "</p>\n"
      ],
      "text/plain": [
       "HBox(children=(IntProgress(value=0, description='Epoch', max=1), HTML(value='')))"
      ]
     },
     "metadata": {},
     "output_type": "display_data"
    },
    {
     "name": "stdout",
     "output_type": "stream",
     "text": [
      " 79%|███████▊  | 59/75 [00:00<00:00, 77.07it/s, loss=11.8]\n",
      "                                                          \r"
     ]
    },
    {
     "data": {
      "image/png": "[encoded data removed]",
      "text/plain": [
       "<matplotlib.figure.Figure at 0x7fe18265c668>"
      ]
     },
     "metadata": {},
     "output_type": "display_data"
    }
   ],
   "source": [
    "lrf=learn.lr_find()\n",
    "learn.sched.plot()\n",
    "lr = 0.0012"
   ]
  },
  {
   "cell_type": "code",
   "execution_count": 487,
   "metadata": {},
   "outputs": [
    {
     "data": {
      "application/vnd.jupyter.widget-view+json": {
       "model_id": "a4af7a48e64c4848b2c596a9e24a2ab1",
       "version_major": 2,
       "version_minor": 0
      },
      "text/html": [
       "<p>Failed to display Jupyter Widget of type <code>HBox</code>.</p>\n",
       "<p>\n",
       "  If you're reading this message in the Jupyter Notebook or JupyterLab Notebook, it may mean\n",
       "  that the widgets JavaScript is still loading. If this message persists, it\n",
       "  likely means that the widgets JavaScript library is either not installed or\n",
       "  not enabled. See the <a href=\"https://ipywidgets.readthedocs.io/en/stable/user_install.html\">Jupyter\n",
       "  Widgets Documentation</a> for setup instructions.\n",
       "</p>\n",
       "<p>\n",
       "  If you're reading this message in another frontend (for example, a static\n",
       "  rendering on GitHub or <a href=\"https://nbviewer.jupyter.org/\">NBViewer</a>),\n",
       "  it may mean that your frontend doesn't currently support widgets.\n",
       "</p>\n"
      ],
      "text/plain": [
       "HBox(children=(IntProgress(value=0, description='Epoch', max=26), HTML(value='')))"
      ]
     },
     "metadata": {},
     "output_type": "display_data"
    },
    {
     "name": "stdout",
     "output_type": "stream",
     "text": [
      "epoch      trn_loss   val_loss   accuracy                 \n",
      "    0      1.734184   1.108027   0.5       \n",
      "    1      1.336876   1.036731   0.583333                 \n",
      "    2      1.085717   0.802221   0.666667                  \n",
      "    3      0.880731   0.630028   0.833333                  \n",
      "    4      0.760237   0.547815   0.833333                  \n",
      "    5      0.66519    0.545897   0.75                      \n",
      "    6      0.615337   0.502119   0.916667                  \n",
      "    7      0.615668   0.516605   0.916667                  \n",
      "    8      0.631571   0.536281   0.833333                  \n",
      "    9      0.567834   0.518022   0.833333                  \n",
      "    10     0.51728    0.490785   0.833333                  \n",
      "    11     0.488103   0.510239   0.75                      \n",
      "    12     0.511201   0.418465   0.833333                  \n",
      "    13     0.460969   0.439911   0.833333                   \n",
      "    14     0.438539   0.422564   0.833333                  \n",
      "    15     0.506504   0.375409   0.916667                  \n",
      "    16     0.435215   0.420094   0.833333                  \n",
      "    17     0.446399   0.407178   0.833333                  \n",
      "    18     0.392813   0.413177   0.916667                   \n",
      "    19     0.392835   0.410774   0.916667                  \n",
      "    20     0.385308   0.37439    0.916667                  \n",
      "    21     0.350419   0.396503   0.916667                   \n",
      "    22     0.415026   0.399162   0.833333                  \n",
      "    23     0.36382    0.399155   0.833333                   \n",
      "    24     0.355384   0.429862   0.916667                  \n",
      "    25     0.347461   0.35972    0.916667                  \n",
      "\n"
     ]
    },
    {
     "data": {
      "text/plain": [
       "[0.35972014, 0.9166666865348816]"
      ]
     },
     "execution_count": 487,
     "metadata": {},
     "output_type": "execute_result"
    }
   ],
   "source": [
    "\n",
    "learn.fit(lr, 3, cycle_len=2, cycle_mult=3)"
   ]
  },
  {
   "cell_type": "code",
   "execution_count": 488,
   "metadata": {},
   "outputs": [
    {
     "data": {
      "application/vnd.jupyter.widget-view+json": {
       "model_id": "170202858dc24150ad48d8ea873918b0",
       "version_major": 2,
       "version_minor": 0
      },
      "text/html": [
       "<p>Failed to display Jupyter Widget of type <code>HBox</code>.</p>\n",
       "<p>\n",
       "  If you're reading this message in the Jupyter Notebook or JupyterLab Notebook, it may mean\n",
       "  that the widgets JavaScript is still loading. If this message persists, it\n",
       "  likely means that the widgets JavaScript library is either not installed or\n",
       "  not enabled. See the <a href=\"https://ipywidgets.readthedocs.io/en/stable/user_install.html\">Jupyter\n",
       "  Widgets Documentation</a> for setup instructions.\n",
       "</p>\n",
       "<p>\n",
       "  If you're reading this message in another frontend (for example, a static\n",
       "  rendering on GitHub or <a href=\"https://nbviewer.jupyter.org/\">NBViewer</a>),\n",
       "  it may mean that your frontend doesn't currently support widgets.\n",
       "</p>\n"
      ],
      "text/plain": [
       "HBox(children=(IntProgress(value=0, description='Epoch', max=14), HTML(value='')))"
      ]
     },
     "metadata": {},
     "output_type": "display_data"
    },
    {
     "name": "stdout",
     "output_type": "stream",
     "text": [
      "epoch      trn_loss   val_loss   accuracy                  \n",
      "    0      0.353447   0.349741   0.916667  \n",
      "    1      0.354757   0.360316   0.916667                  \n",
      "    2      0.4089     0.369569   0.916667                   \n",
      "    3      0.385019   0.360246   0.833333                  \n",
      "    4      0.374761   0.350002   0.833333                  \n",
      "    5      0.355939   0.421188   0.833333                  \n",
      "    6      0.332798   0.416233   0.833333                  \n",
      "    7      0.39279    0.395908   0.916667                  \n",
      "    8      0.355537   0.379085   0.916667                  \n",
      "    9      0.328036   0.355148   0.916667                  \n",
      "    10     0.324803   0.345653   0.916667                  \n",
      "    11     0.321889   0.339694   0.916667                   \n",
      "    12     0.310424   0.338593   0.916667                  \n",
      "    13     0.280151   0.326914   0.916667                  \n",
      "\n"
     ]
    },
    {
     "data": {
      "text/plain": [
       "[0.32691428, 0.9166666865348816]"
      ]
     },
     "execution_count": 488,
     "metadata": {},
     "output_type": "execute_result"
    }
   ],
   "source": [
    "learn.fit(lr, 3, cycle_len=2, cycle_mult=2)"
   ]
  },
  {
   "cell_type": "code",
   "execution_count": 489,
   "metadata": {},
   "outputs": [
    {
     "data": {
      "application/vnd.jupyter.widget-view+json": {
       "model_id": "67979f37437e430ba670455b62d6e778",
       "version_major": 2,
       "version_minor": 0
      },
      "text/html": [
       "<p>Failed to display Jupyter Widget of type <code>HBox</code>.</p>\n",
       "<p>\n",
       "  If you're reading this message in the Jupyter Notebook or JupyterLab Notebook, it may mean\n",
       "  that the widgets JavaScript is still loading. If this message persists, it\n",
       "  likely means that the widgets JavaScript library is either not installed or\n",
       "  not enabled. See the <a href=\"https://ipywidgets.readthedocs.io/en/stable/user_install.html\">Jupyter\n",
       "  Widgets Documentation</a> for setup instructions.\n",
       "</p>\n",
       "<p>\n",
       "  If you're reading this message in another frontend (for example, a static\n",
       "  rendering on GitHub or <a href=\"https://nbviewer.jupyter.org/\">NBViewer</a>),\n",
       "  it may mean that your frontend doesn't currently support widgets.\n",
       "</p>\n"
      ],
      "text/plain": [
       "HBox(children=(IntProgress(value=0, description='Epoch', max=3), HTML(value='')))"
      ]
     },
     "metadata": {},
     "output_type": "display_data"
    },
    {
     "name": "stdout",
     "output_type": "stream",
     "text": [
      "epoch      trn_loss   val_loss   accuracy                   \n",
      "    0      0.278268   0.346861   0.916667  \n",
      "    1      0.273894   0.326818   0.916667                  \n",
      "    2      0.295289   0.378101   0.916667                  \n",
      "\n"
     ]
    },
    {
     "data": {
      "text/plain": [
       "[0.37810096, 0.9166666865348816]"
      ]
     },
     "execution_count": 489,
     "metadata": {},
     "output_type": "execute_result"
    }
   ],
   "source": [
    "learn.fit(lr, 3, cycle_len=1, cycle_mult=1)"
   ]
  },
  {
   "cell_type": "code",
   "execution_count": 490,
   "metadata": {},
   "outputs": [
    {
     "data": {
      "application/vnd.jupyter.widget-view+json": {
       "model_id": "2f414a1b2d404e24a5bc0ecff8f273f0",
       "version_major": 2,
       "version_minor": 0
      },
      "text/html": [
       "<p>Failed to display Jupyter Widget of type <code>HBox</code>.</p>\n",
       "<p>\n",
       "  If you're reading this message in the Jupyter Notebook or JupyterLab Notebook, it may mean\n",
       "  that the widgets JavaScript is still loading. If this message persists, it\n",
       "  likely means that the widgets JavaScript library is either not installed or\n",
       "  not enabled. See the <a href=\"https://ipywidgets.readthedocs.io/en/stable/user_install.html\">Jupyter\n",
       "  Widgets Documentation</a> for setup instructions.\n",
       "</p>\n",
       "<p>\n",
       "  If you're reading this message in another frontend (for example, a static\n",
       "  rendering on GitHub or <a href=\"https://nbviewer.jupyter.org/\">NBViewer</a>),\n",
       "  it may mean that your frontend doesn't currently support widgets.\n",
       "</p>\n"
      ],
      "text/plain": [
       "HBox(children=(IntProgress(value=0, description='Epoch', max=7), HTML(value='')))"
      ]
     },
     "metadata": {},
     "output_type": "display_data"
    },
    {
     "name": "stdout",
     "output_type": "stream",
     "text": [
      "epoch      trn_loss   val_loss   accuracy                  \n",
      "    0      0.355838   0.34455    0.833333  \n",
      "    1      0.271048   0.335076   0.916667                   \n",
      "    2      0.262211   0.308121   0.916667                   \n",
      "    3      0.284916   0.440596   0.916667                  \n",
      "    4      0.25305    0.375409   0.833333                  \n",
      "    5      0.301297   0.427245   0.916667                  \n",
      "    6      0.272088   0.381123   0.916667                  \n",
      "\n"
     ]
    },
    {
     "data": {
      "text/plain": [
       "[0.38112307, 0.9166666865348816]"
      ]
     },
     "execution_count": 490,
     "metadata": {},
     "output_type": "execute_result"
    }
   ],
   "source": [
    "learn.fit(lr, 3, cycle_len=1, cycle_mult=2)"
   ]
  },
  {
   "cell_type": "code",
   "execution_count": 491,
   "metadata": {},
   "outputs": [
    {
     "data": {
      "text/plain": [
       "array([[ -0.50703,  -9.62047,  -9.7885 , -10.8043 ,  -5.13378,  -8.70411,  -0.96031,  -6.78449,  -5.64705,\n",
       "         -8.09389,  -5.94115,  -6.76653],\n",
       "       [-11.67377,  -0.00202,  -9.54154, -11.83153,  -8.23191,  -8.05068, -13.03785,  -7.05836, -11.29282,\n",
       "         -8.70158,  -8.14169, -11.21618],\n",
       "       [ -3.26575,  -1.93596,  -1.00048,  -5.43701,  -2.68644,  -1.38909,  -4.01426,  -5.79544,  -2.63072,\n",
       "         -3.92498,  -4.77996,  -4.99042],\n",
       "       [ -6.21484,  -6.53791,  -6.92738,  -0.12409,  -4.15664,  -4.49439,  -6.23655,  -4.59467,  -3.14088,\n",
       "         -6.50126,  -5.55842,  -3.698  ],\n",
       "       [ -7.18461, -13.4243 , -13.87428, -18.83069,  -0.0013 , -10.87988, -10.32395, -10.44839, -15.88813,\n",
       "        -16.72002, -16.56867,  -7.70058],\n",
       "       [-10.10517,  -7.41329,  -7.26855,  -9.40496,  -5.38397,  -0.00863, -10.48697,  -6.54214, -12.83856,\n",
       "        -10.64195,  -8.60322,  -7.01016],\n",
       "       [ -3.40116, -10.22022,  -8.4915 , -12.38824,  -8.02144,  -7.52697,  -0.03521, -11.03778,  -9.65305,\n",
       "        -10.83691, -10.32171, -10.90459],\n",
       "       [ -7.26621,  -5.89253,  -7.68512,  -6.00632,  -2.76512,  -7.26829,  -6.48664,  -0.16841,  -2.80852,\n",
       "         -3.97484,  -6.36454,  -5.94306],\n",
       "       [-10.49318,  -9.86216,  -6.45566,  -5.41196, -10.07124, -10.76435, -10.05235,  -9.65124,  -0.02577,\n",
       "         -3.96677,  -8.78663,  -9.6615 ],\n",
       "       [ -9.20226,  -6.84226,  -9.06957,  -4.35818,  -7.33352,  -7.63367,  -9.16232,  -6.75995,  -0.09285,\n",
       "         -2.6854 ,  -5.75885,  -7.09022],\n",
       "       [-11.03973,  -5.79257,  -6.71705,  -6.20791, -11.15357,  -8.641  , -12.04642,  -8.1765 , -11.43844,\n",
       "         -6.61478,  -0.00816, -12.09758],\n",
       "       [ -6.85538,  -7.37892,  -9.27519,  -5.75981,  -8.00485,  -9.164  ,  -9.12257,  -8.20727,  -6.8505 ,\n",
       "         -9.05934, -10.14266,  -0.00698]], dtype=float32)"
      ]
     },
     "execution_count": 491,
     "metadata": {},
     "output_type": "execute_result"
    }
   ],
   "source": [
    "learn.predict()\n"
   ]
  },
  {
   "cell_type": "code",
   "execution_count": 492,
   "metadata": {},
   "outputs": [
    {
     "name": "stdout",
     "output_type": "stream",
     "text": [
      "                                     \r"
     ]
    }
   ],
   "source": [
    "log_preds,y = learn.TTA()\n",
    "probs = np.mean(np.exp(log_preds),0)"
   ]
  },
  {
   "cell_type": "code",
   "execution_count": 493,
   "metadata": {},
   "outputs": [],
   "source": [
    "log_preds_test = learn.predict(is_test=True)"
   ]
  },
  {
   "cell_type": "code",
   "execution_count": 494,
   "metadata": {},
   "outputs": [
    {
     "data": {
      "text/html": [
       "<div>\n",
       "<style scoped>\n",
       "    .dataframe tbody tr th:only-of-type {\n",
       "        vertical-align: middle;\n",
       "    }\n",
       "\n",
       "    .dataframe tbody tr th {\n",
       "        vertical-align: top;\n",
       "    }\n",
       "\n",
       "    .dataframe thead th {\n",
       "        text-align: right;\n",
       "    }\n",
       "</style>\n",
       "<table border=\"1\" class=\"dataframe\">\n",
       "  <thead>\n",
       "    <tr style=\"text-align: right;\">\n",
       "      <th></th>\n",
       "      <th>file</th>\n",
       "      <th>species</th>\n",
       "    </tr>\n",
       "  </thead>\n",
       "  <tbody>\n",
       "    <tr>\n",
       "      <th>0</th>\n",
       "      <td>aaf4da98f.png</td>\n",
       "      <td>Sugar beet</td>\n",
       "    </tr>\n",
       "    <tr>\n",
       "      <th>1</th>\n",
       "      <td>77ccb8b2a.png</td>\n",
       "      <td>Small-flowered Cranesbill</td>\n",
       "    </tr>\n",
       "    <tr>\n",
       "      <th>2</th>\n",
       "      <td>592473c83.png</td>\n",
       "      <td>Loose Silky-bent</td>\n",
       "    </tr>\n",
       "    <tr>\n",
       "      <th>3</th>\n",
       "      <td>974959ec1.png</td>\n",
       "      <td>Common wheat</td>\n",
       "    </tr>\n",
       "    <tr>\n",
       "      <th>4</th>\n",
       "      <td>060f1dc84.png</td>\n",
       "      <td>Shepherds Purse</td>\n",
       "    </tr>\n",
       "  </tbody>\n",
       "</table>\n",
       "</div>"
      ],
      "text/plain": [
       "            file                    species\n",
       "0  aaf4da98f.png                 Sugar beet\n",
       "1  77ccb8b2a.png  Small-flowered Cranesbill\n",
       "2  592473c83.png           Loose Silky-bent\n",
       "3  974959ec1.png               Common wheat\n",
       "4  060f1dc84.png            Shepherds Purse"
      ]
     },
     "execution_count": 494,
     "metadata": {},
     "output_type": "execute_result"
    }
   ],
   "source": [
    "\n",
    "\n",
    "log_preds_test = np.argmax(log_preds_test, axis=1)\n",
    "preds_classes = [data.classes[i].replace(\"_\", \" \") for i in log_preds_test]\n",
    "probs = np.exp(log_preds_test)\n",
    "\n",
    "submission = pd.DataFrame({'file': os.listdir(f'{PATH}test'), 'species': preds_classes})\n",
    "submission.head()"
   ]
  },
  {
   "cell_type": "code",
   "execution_count": 495,
   "metadata": {},
   "outputs": [],
   "source": [
    "submission.to_csv('submission2.csv', index=False)"
   ]
  },
  {
   "cell_type": "code",
   "execution_count": 496,
   "metadata": {},
   "outputs": [
    {
     "data": {
      "text/plain": [
       "794"
      ]
     },
     "execution_count": 496,
     "metadata": {},
     "output_type": "execute_result"
    }
   ],
   "source": [
    "len(submission)"
   ]
  },
  {
   "cell_type": "code",
   "execution_count": null,
   "metadata": {},
   "outputs": [],
   "source": []
  },
  {
   "cell_type": "code",
   "execution_count": null,
   "metadata": {},
   "outputs": [],
   "source": []
  }
 ],
 "metadata": {
  "kernelspec": {
   "display_name": "Python 3",
   "language": "python",
   "name": "python3"
  },
  "language_info": {
   "codemirror_mode": {
    "name": "ipython",
    "version": 3
   },
   "file_extension": ".py",
   "mimetype": "text/x-python",
   "name": "python",
   "nbconvert_exporter": "python",
   "pygments_lexer": "ipython3",
   "version": "3.6.4"
  }
 },
 "nbformat": 4,
 "nbformat_minor": 2
}
